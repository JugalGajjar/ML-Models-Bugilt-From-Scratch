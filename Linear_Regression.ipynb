{
 "cells": [
  {
   "cell_type": "markdown",
   "metadata": {},
   "source": [
    "# From Scratch"
   ]
  },
  {
   "cell_type": "markdown",
   "metadata": {},
   "source": [
    "### Import Libraries and Load Data"
   ]
  },
  {
   "cell_type": "code",
   "execution_count": 1,
   "metadata": {},
   "outputs": [],
   "source": [
    "import pandas as pd\n",
    "import numpy as np\n",
    "\n",
    "# Load the California Housing Dataset\n",
    "url = \"https://raw.githubusercontent.com/ageron/handson-ml/master/datasets/housing/housing.csv\"\n",
    "housing_data = pd.read_csv(url)"
   ]
  },
  {
   "cell_type": "markdown",
   "metadata": {},
   "source": [
    "### Basic Data Cleaning and Preprocessing"
   ]
  },
  {
   "cell_type": "code",
   "execution_count": 2,
   "metadata": {},
   "outputs": [
    {
     "name": "stdout",
     "output_type": "stream",
     "text": [
      "<class 'pandas.core.frame.DataFrame'>\n",
      "RangeIndex: 20640 entries, 0 to 20639\n",
      "Data columns (total 10 columns):\n",
      " #   Column              Non-Null Count  Dtype  \n",
      "---  ------              --------------  -----  \n",
      " 0   longitude           20640 non-null  float64\n",
      " 1   latitude            20640 non-null  float64\n",
      " 2   housing_median_age  20640 non-null  float64\n",
      " 3   total_rooms         20640 non-null  float64\n",
      " 4   total_bedrooms      20433 non-null  float64\n",
      " 5   population          20640 non-null  float64\n",
      " 6   households          20640 non-null  float64\n",
      " 7   median_income       20640 non-null  float64\n",
      " 8   median_house_value  20640 non-null  float64\n",
      " 9   ocean_proximity     20640 non-null  object \n",
      "dtypes: float64(9), object(1)\n",
      "memory usage: 1.6+ MB\n"
     ]
    },
    {
     "name": "stderr",
     "output_type": "stream",
     "text": [
      "/var/folders/j8/rq2yf9qs07ldt77jv70bygnh0000gn/T/ipykernel_14243/1268930447.py:6: FutureWarning: A value is trying to be set on a copy of a DataFrame or Series through chained assignment using an inplace method.\n",
      "The behavior will change in pandas 3.0. This inplace method will never work because the intermediate object on which we are setting values always behaves as a copy.\n",
      "\n",
      "For example, when doing 'df[col].method(value, inplace=True)', try using 'df.method({col: value}, inplace=True)' or df[col] = df[col].method(value) instead, to perform the operation inplace on the original object.\n",
      "\n",
      "\n",
      "  housing_data[\"total_bedrooms\"].fillna(housing_data[\"total_bedrooms\"].median(), inplace=True)\n",
      "/var/folders/j8/rq2yf9qs07ldt77jv70bygnh0000gn/T/ipykernel_14243/1268930447.py:12: FutureWarning: Downcasting behavior in `replace` is deprecated and will be removed in a future version. To retain the old behavior, explicitly call `result.infer_objects(copy=False)`. To opt-in to the future behavior, set `pd.set_option('future.no_silent_downcasting', True)`\n",
      "  housing_data[\"ocean_proximity\"] = housing_data[\"ocean_proximity\"].replace(mapping)\n"
     ]
    }
   ],
   "source": [
    "# Check for missing values\n",
    "housing_data.info()\n",
    "housing_data.isnull().sum()\n",
    "\n",
    "# Fill missing values in \"total_bedrooms\" with the median value\n",
    "housing_data[\"total_bedrooms\"].fillna(housing_data[\"total_bedrooms\"].median(), inplace=True)\n",
    "\n",
    "# Encode categorical variable \"ocean_proximity\" using label encoding\n",
    "categories = list(housing_data[\"ocean_proximity\"].unique())\n",
    "categories.sort()\n",
    "mapping = {cat: i for i, cat in enumerate(categories)}\n",
    "housing_data[\"ocean_proximity\"] = housing_data[\"ocean_proximity\"].replace(mapping)"
   ]
  },
  {
   "cell_type": "markdown",
   "metadata": {},
   "source": [
    "### Define Features (X) and Target Variable (y)"
   ]
  },
  {
   "cell_type": "code",
   "execution_count": 3,
   "metadata": {},
   "outputs": [],
   "source": [
    "# Select features (independent variables)\n",
    "features = list(housing_data.columns)\n",
    "features.remove(\"median_house_value\")  # Remove target variable\n",
    "\n",
    "X = housing_data[features]\n",
    "y = housing_data[\"median_house_value\"]\n",
    "\n",
    "# Convert X (features) to NumPy array for efficient calculations\n",
    "X = np.array(X)\n",
    "y = np.array(y)"
   ]
  },
  {
   "cell_type": "markdown",
   "metadata": {},
   "source": [
    "### Data Standardization"
   ]
  },
  {
   "cell_type": "code",
   "execution_count": 4,
   "metadata": {},
   "outputs": [],
   "source": [
    "# Calculate mean and standard deviation\n",
    "X_mean = np.mean(X, axis=0)\n",
    "X_std = np.std(X, axis=0)\n",
    "\n",
    "# Standardize the data\n",
    "X = (X - X_mean) / X_std"
   ]
  },
  {
   "cell_type": "markdown",
   "metadata": {},
   "source": [
    "### Linear Regression"
   ]
  },
  {
   "cell_type": "code",
   "execution_count": 5,
   "metadata": {},
   "outputs": [
    {
     "name": "stdout",
     "output_type": "stream",
     "text": [
      "MSE:  56104831989.87253\n",
      "MSE:  55110393275.8855\n",
      "MSE:  54135905333.35988\n",
      "MSE:  53180953974.79889\n",
      "MSE:  52245134567.87385\n",
      "MSE:  51328051745.705765\n",
      "MSE:  50429319130.49843\n",
      "MSE:  49548559069.67764\n",
      "MSE:  48685402383.752556\n",
      "MSE:  47839488125.17134\n",
      "MSE:  47010463347.49608\n",
      "MSE:  46197982884.26969\n",
      "MSE:  45401709136.99297\n",
      "MSE:  44621311871.67066\n",
      "MSE:  43856468023.42394\n",
      "MSE:  43106861508.702446\n",
      "MSE:  42372183044.66087\n",
      "MSE:  41652129975.29664\n",
      "MSE:  40946406103.971825\n",
      "MSE:  40254721531.96986\n",
      "MSE:  39576792502.76041\n",
      "MSE:  38912341251.6688\n",
      "MSE:  38261095860.66657\n",
      "MSE:  37622790118.01907\n",
      "MSE:  36997163382.543274\n",
      "MSE:  36383960452.246\n",
      "MSE:  35782931437.12716\n",
      "MSE:  35193831635.947205\n",
      "MSE:  34616421416.770805\n",
      "MSE:  34050466101.110806\n",
      "MSE:  33495735851.507793\n",
      "MSE:  32952005562.391014\n",
      "MSE:  32419054754.075775\n",
      "MSE:  31896667469.761894\n",
      "MSE:  31384632175.40539\n",
      "MSE:  30882741662.34398\n",
      "MSE:  30390792952.563637\n",
      "MSE:  29908587206.500328\n",
      "MSE:  29435929633.277115\n",
      "MSE:  28972629403.282753\n",
      "MSE:  28518499563.002926\n",
      "MSE:  28073356952.020626\n",
      "MSE:  27637022122.10643\n",
      "MSE:  27209319258.324074\n",
      "MSE:  26790076102.080452\n",
      "MSE:  26379123876.053143\n",
      "MSE:  25976297210.931877\n",
      "MSE:  25581434073.913765\n",
      "MSE:  25194375698.89496\n",
      "MSE:  24814966518.304493\n",
      "MSE:  24443054096.528454\n",
      "MSE:  24078489064.875324\n",
      "MSE:  23721125058.035503\n",
      "MSE:  23370818651.99025\n",
      "MSE:  23027429303.327324\n",
      "MSE:  22690819289.92254\n",
      "MSE:  22360853652.948067\n",
      "MSE:  22037400140.17031\n",
      "MSE:  21720329150.50134\n",
      "MSE:  21409513679.769764\n",
      "MSE:  21104829267.678066\n",
      "MSE:  20806153945.91472\n",
      "MSE:  20513368187.390793\n",
      "MSE:  20226354856.571857\n",
      "MSE:  19944999160.87696\n",
      "MSE:  19669188603.117737\n",
      "MSE:  19398812934.95147\n",
      "MSE:  19133764111.32292\n",
      "MSE:  18873936245.870747\n",
      "MSE:  18619225567.274887\n",
      "MSE:  18369530376.522408\n",
      "MSE:  18124751005.069717\n",
      "MSE:  17884789773.8801\n",
      "MSE:  17649550953.315884\n",
      "MSE:  17418940723.865448\n",
      "MSE:  17192867137.68575\n",
      "MSE:  16971240080.941643\n",
      "MSE:  16753971236.923906\n",
      "MSE:  16540974049.928328\n",
      "MSE:  16332163689.87873\n",
      "MSE:  16127457017.677374\n",
      "MSE:  15926772551.266518\n",
      "MSE:  15730030432.385517\n",
      "MSE:  15537152394.008074\n",
      "MSE:  15348061728.44489\n",
      "MSE:  15162683256.097147\n",
      "MSE:  14980943294.84679\n",
      "MSE:  14802769630.069847\n",
      "MSE:  14628091485.259426\n",
      "MSE:  14456839493.245352\n",
      "MSE:  14288945667.997696\n",
      "MSE:  14124343377.00185\n",
      "MSE:  13962967314.193014\n",
      "MSE:  13804753473.438305\n",
      "MSE:  13649639122.55495\n",
      "MSE:  13497562777.85338\n",
      "MSE:  13348464179.194155\n",
      "MSE:  13202284265.548079\n",
      "MSE:  13058965151.04899\n",
      "MSE:  12918450101.528992\n",
      "MSE:  12780683511.526161\n",
      "MSE:  12645610881.754923\n",
      "MSE:  12513178797.029566\n",
      "MSE:  12383334904.631586\n",
      "MSE:  12256027893.111652\n",
      "MSE:  12131207471.517372\n",
      "MSE:  12008824349.038048\n",
      "MSE:  11888830215.057943\n",
      "MSE:  11771177719.609653\n",
      "MSE:  11655820454.219492\n",
      "MSE:  11542712933.136812\n",
      "MSE:  11431810574.939497\n",
      "MSE:  11323069684.507978\n",
      "MSE:  11216447435.360245\n",
      "MSE:  11111901852.340546\n",
      "MSE:  11009391794.654646\n",
      "MSE:  10908876939.244509\n",
      "MSE:  10810317764.495684\n",
      "MSE:  10713675534.270523\n",
      "MSE:  10618912282.260746\n",
      "MSE:  10525990796.652832\n",
      "MSE:  10434874605.099995\n",
      "MSE:  10345527959.994463\n",
      "MSE:  10257915824.034122\n",
      "MSE:  10172003856.077494\n",
      "MSE:  10087758397.281284\n",
      "MSE:  10005146457.514853\n",
      "MSE:  9924135702.045923\n",
      "MSE:  9844694438.492218\n",
      "MSE:  9766791604.033567\n",
      "MSE:  9690396752.87931\n",
      "MSE:  9615480043.985828\n",
      "MSE:  9542012229.01925\n",
      "MSE:  9469964640.558329\n",
      "MSE:  9399309180.532719\n",
      "MSE:  9330018308.891953\n",
      "MSE:  9262065032.500425\n",
      "MSE:  9195422894.253922\n",
      "MSE:  9130065962.413223\n",
      "MSE:  9065968820.150425\n",
      "MSE:  9003106555.303743\n",
      "MSE:  8941454750.336603\n",
      "MSE:  8880989472.496946\n",
      "MSE:  8821687264.172728\n",
      "MSE:  8763525133.439695\n",
      "MSE:  8706480544.797577\n",
      "MSE:  8650531410.090961\n",
      "MSE:  8595656079.611105\n",
      "MSE:  8541833333.375108\n",
      "MSE:  8489042372.578897\n",
      "MSE:  8437262811.220521\n",
      "MSE:  8386474667.89037\n",
      "MSE:  8336658357.724997\n",
      "MSE:  8287794684.521239\n",
      "MSE:  8239864833.007473\n",
      "MSE:  8192850361.268836\n",
      "MSE:  8146733193.323359\n",
      "MSE:  8101495611.845977\n",
      "MSE:  8057120251.037488\n",
      "MSE:  8013590089.635536\n",
      "MSE:  7970888444.064822\n",
      "MSE:  7928998961.723725\n",
      "MSE:  7887905614.404627\n",
      "MSE:  7847592691.845286\n",
      "MSE:  7808044795.408621\n",
      "MSE:  7769246831.888343\n",
      "MSE:  7731184007.437953\n",
      "MSE:  7693841821.6206045\n",
      "MSE:  7657206061.5774555\n",
      "MSE:  7621262796.312121\n",
      "MSE:  7585998371.088903\n",
      "MSE:  7551399401.942587\n",
      "MSE:  7517452770.297483\n",
      "MSE:  7484145617.6936245\n",
      "MSE:  7451465340.617928\n",
      "MSE:  7419399585.43826\n",
      "MSE:  7387936243.438317\n",
      "MSE:  7357063445.951354\n",
      "MSE:  7326769559.590741\n",
      "MSE:  7297043181.575483\n",
      "MSE:  7267873135.148739\n",
      "MSE:  7239248465.087518\n",
      "MSE:  7211158433.301765\n",
      "MSE:  7183592514.5209875\n",
      "MSE:  7156540392.066738\n",
      "MSE:  7129991953.70921\n",
      "MSE:  7103937287.60628\n",
      "MSE:  7078366678.323351\n",
      "MSE:  7053270602.932383\n",
      "MSE:  7028639727.188541\n",
      "MSE:  7004464901.782914\n",
      "MSE:  6980737158.669765\n",
      "MSE:  6957447707.466872\n",
      "MSE:  6934587931.927459\n",
      "MSE:  6912149386.4823065\n",
      "MSE:  6890123792.850676\n",
      "MSE:  6868503036.718597\n",
      "MSE:  6847279164.483275\n",
      "MSE:  6826444380.062222\n",
      "MSE:  6805991041.765856\n"
     ]
    }
   ],
   "source": [
    "class LinearRegression:\n",
    "    def __init__(self, learning_rate=0.01, n_iterations=200):\n",
    "        self.learning_rate = learning_rate\n",
    "        self.n_iterations = n_iterations\n",
    "        self.weights = None\n",
    "        self.bias = None\n",
    "\n",
    "    def mean_squared_error(self, y_true, y_pred):\n",
    "        return np.mean((y_true - y_pred) ** 2)\n",
    "\n",
    "    def fit(self, X, y):\n",
    "        n_samples, n_features = X.shape\n",
    "        self.weights = np.zeros(n_features)\n",
    "        self.bias = 0\n",
    "\n",
    "        # Gradient Descent\n",
    "        for _ in range(self.n_iterations):\n",
    "            y_predicted = np.dot(X, self.weights) + self.bias\n",
    "\n",
    "            print(\"MSE: \", self.mean_squared_error(y, y_predicted))\n",
    "\n",
    "            # Compute gradients\n",
    "            dw = (1/n_samples) * np.dot(X.T, (y_predicted - y))\n",
    "            db = (1/n_samples) * np.sum(y_predicted - y)\n",
    "\n",
    "            # Update parameters\n",
    "            self.weights -= self.learning_rate * dw\n",
    "            self.bias -= self.learning_rate * db\n",
    "\n",
    "    def predict(self, X):\n",
    "        return np.dot(X, self.weights) + self.bias\n",
    "\n",
    "model = LinearRegression()\n",
    "model.fit(X, y)"
   ]
  },
  {
   "cell_type": "markdown",
   "metadata": {},
   "source": [
    "### Prediction"
   ]
  },
  {
   "cell_type": "code",
   "execution_count": 6,
   "metadata": {},
   "outputs": [
    {
     "name": "stdout",
     "output_type": "stream",
     "text": [
      "True Value:  89400.0\n",
      "Predicted Value:  88129.5245777892\n"
     ]
    }
   ],
   "source": [
    "print(\"True Value: \", y[-1])\n",
    "\n",
    "pred = model.predict(X[-1])\n",
    "print(\"Predicted Value: \", pred)"
   ]
  },
  {
   "cell_type": "markdown",
   "metadata": {},
   "source": [
    "# Using Scikit-Learn"
   ]
  },
  {
   "cell_type": "code",
   "execution_count": 7,
   "metadata": {},
   "outputs": [
    {
     "name": "stdout",
     "output_type": "stream",
     "text": [
      "MSE:  4852254699.072868\n"
     ]
    }
   ],
   "source": [
    "from sklearn.linear_model import LinearRegression\n",
    "\n",
    "model = LinearRegression()\n",
    "\n",
    "# Train the model with the data\n",
    "model.fit(X, y)\n",
    "# Make predictions\n",
    "y_predicted = model.predict(X)\n",
    "\n",
    "from sklearn.metrics import mean_squared_error\n",
    "\n",
    "print(\"MSE: \", mean_squared_error(y, y_predicted))"
   ]
  },
  {
   "cell_type": "code",
   "execution_count": null,
   "metadata": {},
   "outputs": [],
   "source": []
  }
 ],
 "metadata": {
  "kernelspec": {
   "display_name": "common",
   "language": "python",
   "name": "python3"
  },
  "language_info": {
   "codemirror_mode": {
    "name": "ipython",
    "version": 3
   },
   "file_extension": ".py",
   "mimetype": "text/x-python",
   "name": "python",
   "nbconvert_exporter": "python",
   "pygments_lexer": "ipython3",
   "version": "3.10.13"
  }
 },
 "nbformat": 4,
 "nbformat_minor": 2
}
